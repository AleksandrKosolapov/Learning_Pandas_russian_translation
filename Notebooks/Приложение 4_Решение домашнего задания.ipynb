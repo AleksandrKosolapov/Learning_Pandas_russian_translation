{
 "cells": [
  {
   "cell_type": "markdown",
   "metadata": {},
   "source": [
    "## Подготовка данных в pandas"
   ]
  },
  {
   "cell_type": "code",
   "execution_count": 1,
   "metadata": {},
   "outputs": [],
   "source": [
    "# отключаем предупреждения\n",
    "import warnings\n",
    "warnings.filterwarnings('ignore')\n",
    "\n",
    "# импортируем необходимые библиотеки\n",
    "import numpy as np\n",
    "import pandas as pd\n",
    "import matplotlib.pyplot as plt\n",
    "%matplotlib inline\n",
    "plt.rc('font', family='Verdana')"
   ]
  },
  {
   "cell_type": "code",
   "execution_count": 2,
   "metadata": {},
   "outputs": [],
   "source": [
    "# записываем CSV-файл в объект DataFrame\n",
    "data = pd.read_csv('Data/Churn_logreg.csv', encoding='cp1251', sep=';')"
   ]
  },
  {
   "cell_type": "code",
   "execution_count": 3,
   "metadata": {
    "scrolled": true
   },
   "outputs": [
    {
     "data": {
      "text/html": [
       "<div>\n",
       "<style scoped>\n",
       "    .dataframe tbody tr th:only-of-type {\n",
       "        vertical-align: middle;\n",
       "    }\n",
       "\n",
       "    .dataframe tbody tr th {\n",
       "        vertical-align: top;\n",
       "    }\n",
       "\n",
       "    .dataframe thead th {\n",
       "        text-align: right;\n",
       "    }\n",
       "</style>\n",
       "<table border=\"1\" class=\"dataframe\">\n",
       "  <thead>\n",
       "    <tr style=\"text-align: right;\">\n",
       "      <th></th>\n",
       "      <th>longdist</th>\n",
       "      <th>internat</th>\n",
       "      <th>local</th>\n",
       "      <th>int_disc</th>\n",
       "      <th>billtype</th>\n",
       "      <th>pay</th>\n",
       "      <th>age</th>\n",
       "      <th>gender</th>\n",
       "      <th>marital</th>\n",
       "      <th>children</th>\n",
       "      <th>income</th>\n",
       "      <th>churn</th>\n",
       "    </tr>\n",
       "  </thead>\n",
       "  <tbody>\n",
       "    <tr>\n",
       "      <th>0</th>\n",
       "      <td>27,09</td>\n",
       "      <td>0</td>\n",
       "      <td>39,74</td>\n",
       "      <td>Нет</td>\n",
       "      <td>Бюджетный</td>\n",
       "      <td>CC</td>\n",
       "      <td>35.0</td>\n",
       "      <td>Женский</td>\n",
       "      <td>Женат</td>\n",
       "      <td>0.0</td>\n",
       "      <td>77680</td>\n",
       "      <td>Остается</td>\n",
       "    </tr>\n",
       "    <tr>\n",
       "      <th>1</th>\n",
       "      <td>NaN</td>\n",
       "      <td>0</td>\n",
       "      <td>46,31</td>\n",
       "      <td>Нет</td>\n",
       "      <td>NaN</td>\n",
       "      <td>NaN</td>\n",
       "      <td>53.0</td>\n",
       "      <td>Мужской</td>\n",
       "      <td>Одинокий</td>\n",
       "      <td>1.0</td>\n",
       "      <td>37111,5</td>\n",
       "      <td>Остается</td>\n",
       "    </tr>\n",
       "    <tr>\n",
       "      <th>2</th>\n",
       "      <td>23,76</td>\n",
       "      <td>0</td>\n",
       "      <td>NaN</td>\n",
       "      <td>NaN</td>\n",
       "      <td>Бюджетный</td>\n",
       "      <td>Auto</td>\n",
       "      <td>NaN</td>\n",
       "      <td>Женский</td>\n",
       "      <td>NaN</td>\n",
       "      <td>1.0</td>\n",
       "      <td>37079,4</td>\n",
       "      <td>Остается</td>\n",
       "    </tr>\n",
       "    <tr>\n",
       "      <th>3</th>\n",
       "      <td>9,4</td>\n",
       "      <td>NaN</td>\n",
       "      <td>13,9</td>\n",
       "      <td>Нет</td>\n",
       "      <td>NaN</td>\n",
       "      <td>CH</td>\n",
       "      <td>NaN</td>\n",
       "      <td>Мужской</td>\n",
       "      <td>Одинокий</td>\n",
       "      <td>NaN</td>\n",
       "      <td>81997</td>\n",
       "      <td>Остается</td>\n",
       "    </tr>\n",
       "    <tr>\n",
       "      <th>4</th>\n",
       "      <td>14,15</td>\n",
       "      <td>0</td>\n",
       "      <td>108,43</td>\n",
       "      <td>Да</td>\n",
       "      <td>Бесплатный</td>\n",
       "      <td>Auto</td>\n",
       "      <td>39.0</td>\n",
       "      <td>Женский</td>\n",
       "      <td>Одинокий</td>\n",
       "      <td>0.0</td>\n",
       "      <td>16829,6</td>\n",
       "      <td>Остается</td>\n",
       "    </tr>\n",
       "  </tbody>\n",
       "</table>\n",
       "</div>"
      ],
      "text/plain": [
       "  longdist internat   local int_disc    billtype   pay   age   gender  \\\n",
       "0    27,09        0   39,74      Нет   Бюджетный    CC  35.0  Женский   \n",
       "1      NaN        0   46,31      Нет         NaN   NaN  53.0  Мужской   \n",
       "2    23,76        0     NaN      NaN   Бюджетный  Auto   NaN  Женский   \n",
       "3      9,4      NaN    13,9      Нет         NaN    CH   NaN  Мужской   \n",
       "4    14,15        0  108,43       Да  Бесплатный  Auto  39.0  Женский   \n",
       "\n",
       "    marital  children   income     churn  \n",
       "0     Женат       0.0    77680  Остается  \n",
       "1  Одинокий       1.0  37111,5  Остается  \n",
       "2       NaN       1.0  37079,4  Остается  \n",
       "3  Одинокий       NaN    81997  Остается  \n",
       "4  Одинокий       0.0  16829,6  Остается  "
      ]
     },
     "execution_count": 3,
     "metadata": {},
     "output_type": "execute_result"
    }
   ],
   "source": [
    "# выводим первые 5 наблюдений датафрейма\n",
    "data.head()"
   ]
  },
  {
   "cell_type": "code",
   "execution_count": 4,
   "metadata": {},
   "outputs": [
    {
     "name": "stdout",
     "output_type": "stream",
     "text": [
      "<class 'pandas.core.frame.DataFrame'>\n",
      "RangeIndex: 4431 entries, 0 to 4430\n",
      "Data columns (total 12 columns):\n",
      "longdist    4430 non-null object\n",
      "internat    4427 non-null object\n",
      "local       4428 non-null object\n",
      "int_disc    4430 non-null object\n",
      "billtype    4427 non-null object\n",
      "pay         4429 non-null object\n",
      "age         4428 non-null float64\n",
      "gender      4430 non-null object\n",
      "marital     4427 non-null object\n",
      "children    4430 non-null float64\n",
      "income      4430 non-null object\n",
      "churn       4431 non-null object\n",
      "dtypes: float64(2), object(10)\n",
      "memory usage: 415.5+ KB\n"
     ]
    }
   ],
   "source": [
    "# смотрим типы переменных\n",
    "data.info()"
   ]
  },
  {
   "cell_type": "code",
   "execution_count": 5,
   "metadata": {
    "scrolled": false
   },
   "outputs": [
    {
     "data": {
      "text/html": [
       "<div>\n",
       "<style scoped>\n",
       "    .dataframe tbody tr th:only-of-type {\n",
       "        vertical-align: middle;\n",
       "    }\n",
       "\n",
       "    .dataframe tbody tr th {\n",
       "        vertical-align: top;\n",
       "    }\n",
       "\n",
       "    .dataframe thead th {\n",
       "        text-align: right;\n",
       "    }\n",
       "</style>\n",
       "<table border=\"1\" class=\"dataframe\">\n",
       "  <thead>\n",
       "    <tr style=\"text-align: right;\">\n",
       "      <th></th>\n",
       "      <th>longdist</th>\n",
       "      <th>internat</th>\n",
       "      <th>local</th>\n",
       "      <th>int_disc</th>\n",
       "      <th>billtype</th>\n",
       "      <th>pay</th>\n",
       "      <th>age</th>\n",
       "      <th>gender</th>\n",
       "      <th>marital</th>\n",
       "      <th>children</th>\n",
       "      <th>income</th>\n",
       "      <th>churn</th>\n",
       "    </tr>\n",
       "  </thead>\n",
       "  <tbody>\n",
       "    <tr>\n",
       "      <th>0</th>\n",
       "      <td>27.09</td>\n",
       "      <td>0.0</td>\n",
       "      <td>39.74</td>\n",
       "      <td>Нет</td>\n",
       "      <td>Бюджетный</td>\n",
       "      <td>CC</td>\n",
       "      <td>35.0</td>\n",
       "      <td>Женский</td>\n",
       "      <td>Женат</td>\n",
       "      <td>0.0</td>\n",
       "      <td>77680.0</td>\n",
       "      <td>Остается</td>\n",
       "    </tr>\n",
       "    <tr>\n",
       "      <th>1</th>\n",
       "      <td>NaN</td>\n",
       "      <td>0.0</td>\n",
       "      <td>46.31</td>\n",
       "      <td>Нет</td>\n",
       "      <td>NaN</td>\n",
       "      <td>NaN</td>\n",
       "      <td>53.0</td>\n",
       "      <td>Мужской</td>\n",
       "      <td>Одинокий</td>\n",
       "      <td>1.0</td>\n",
       "      <td>37111.5</td>\n",
       "      <td>Остается</td>\n",
       "    </tr>\n",
       "    <tr>\n",
       "      <th>2</th>\n",
       "      <td>23.76</td>\n",
       "      <td>0.0</td>\n",
       "      <td>NaN</td>\n",
       "      <td>NaN</td>\n",
       "      <td>Бюджетный</td>\n",
       "      <td>Auto</td>\n",
       "      <td>NaN</td>\n",
       "      <td>Женский</td>\n",
       "      <td>NaN</td>\n",
       "      <td>1.0</td>\n",
       "      <td>37079.4</td>\n",
       "      <td>Остается</td>\n",
       "    </tr>\n",
       "    <tr>\n",
       "      <th>3</th>\n",
       "      <td>9.40</td>\n",
       "      <td>NaN</td>\n",
       "      <td>13.90</td>\n",
       "      <td>Нет</td>\n",
       "      <td>NaN</td>\n",
       "      <td>CH</td>\n",
       "      <td>NaN</td>\n",
       "      <td>Мужской</td>\n",
       "      <td>Одинокий</td>\n",
       "      <td>NaN</td>\n",
       "      <td>81997.0</td>\n",
       "      <td>Остается</td>\n",
       "    </tr>\n",
       "    <tr>\n",
       "      <th>4</th>\n",
       "      <td>14.15</td>\n",
       "      <td>0.0</td>\n",
       "      <td>108.43</td>\n",
       "      <td>Да</td>\n",
       "      <td>Бесплатный</td>\n",
       "      <td>Auto</td>\n",
       "      <td>39.0</td>\n",
       "      <td>Женский</td>\n",
       "      <td>Одинокий</td>\n",
       "      <td>0.0</td>\n",
       "      <td>16829.6</td>\n",
       "      <td>Остается</td>\n",
       "    </tr>\n",
       "  </tbody>\n",
       "</table>\n",
       "</div>"
      ],
      "text/plain": [
       "   longdist  internat   local int_disc    billtype   pay   age   gender  \\\n",
       "0     27.09       0.0   39.74      Нет   Бюджетный    CC  35.0  Женский   \n",
       "1       NaN       0.0   46.31      Нет         NaN   NaN  53.0  Мужской   \n",
       "2     23.76       0.0     NaN      NaN   Бюджетный  Auto   NaN  Женский   \n",
       "3      9.40       NaN   13.90      Нет         NaN    CH   NaN  Мужской   \n",
       "4     14.15       0.0  108.43       Да  Бесплатный  Auto  39.0  Женский   \n",
       "\n",
       "    marital  children   income     churn  \n",
       "0     Женат       0.0  77680.0  Остается  \n",
       "1  Одинокий       1.0  37111.5  Остается  \n",
       "2       NaN       1.0  37079.4  Остается  \n",
       "3  Одинокий       NaN  81997.0  Остается  \n",
       "4  Одинокий       0.0  16829.6  Остается  "
      ]
     },
     "execution_count": 5,
     "metadata": {},
     "output_type": "execute_result"
    }
   ],
   "source": [
    "# заменяем запятые на точки и преобразуем в тип float\n",
    "for i in ['longdist', 'internat', 'local', 'income']:\n",
    "    data[i] = data[i].str.replace(',', '.').astype('float')\n",
    "data.head()"
   ]
  },
  {
   "cell_type": "code",
   "execution_count": 6,
   "metadata": {
    "scrolled": true
   },
   "outputs": [
    {
     "name": "stdout",
     "output_type": "stream",
     "text": [
      "<class 'pandas.core.frame.DataFrame'>\n",
      "RangeIndex: 4431 entries, 0 to 4430\n",
      "Data columns (total 12 columns):\n",
      "longdist    4430 non-null float64\n",
      "internat    4427 non-null float64\n",
      "local       4428 non-null float64\n",
      "int_disc    4430 non-null object\n",
      "billtype    4427 non-null object\n",
      "pay         4429 non-null object\n",
      "age         4428 non-null float64\n",
      "gender      4430 non-null object\n",
      "marital     4427 non-null object\n",
      "children    4430 non-null float64\n",
      "income      4430 non-null float64\n",
      "churn       4431 non-null object\n",
      "dtypes: float64(6), object(6)\n",
      "memory usage: 415.5+ KB\n"
     ]
    }
   ],
   "source": [
    "# смотрим типы переменных\n",
    "data.info()"
   ]
  },
  {
   "cell_type": "code",
   "execution_count": 7,
   "metadata": {
    "scrolled": true
   },
   "outputs": [
    {
     "data": {
      "text/html": [
       "<div>\n",
       "<style scoped>\n",
       "    .dataframe tbody tr th:only-of-type {\n",
       "        vertical-align: middle;\n",
       "    }\n",
       "\n",
       "    .dataframe tbody tr th {\n",
       "        vertical-align: top;\n",
       "    }\n",
       "\n",
       "    .dataframe thead th {\n",
       "        text-align: right;\n",
       "    }\n",
       "</style>\n",
       "<table border=\"1\" class=\"dataframe\">\n",
       "  <thead>\n",
       "    <tr style=\"text-align: right;\">\n",
       "      <th></th>\n",
       "      <th>longdist</th>\n",
       "      <th>internat</th>\n",
       "      <th>local</th>\n",
       "      <th>age</th>\n",
       "      <th>children</th>\n",
       "      <th>income</th>\n",
       "    </tr>\n",
       "  </thead>\n",
       "  <tbody>\n",
       "    <tr>\n",
       "      <th>count</th>\n",
       "      <td>4430.000000</td>\n",
       "      <td>4427.000000</td>\n",
       "      <td>4428.000000</td>\n",
       "      <td>4428.000000</td>\n",
       "      <td>4430.000000</td>\n",
       "      <td>4430.000000</td>\n",
       "    </tr>\n",
       "    <tr>\n",
       "      <th>mean</th>\n",
       "      <td>13.638023</td>\n",
       "      <td>0.835044</td>\n",
       "      <td>51.361093</td>\n",
       "      <td>57.562331</td>\n",
       "      <td>0.988939</td>\n",
       "      <td>50296.423896</td>\n",
       "    </tr>\n",
       "    <tr>\n",
       "      <th>std</th>\n",
       "      <td>9.393025</td>\n",
       "      <td>2.233639</td>\n",
       "      <td>54.685012</td>\n",
       "      <td>22.832404</td>\n",
       "      <td>0.824448</td>\n",
       "      <td>28439.435264</td>\n",
       "    </tr>\n",
       "    <tr>\n",
       "      <th>min</th>\n",
       "      <td>0.000000</td>\n",
       "      <td>0.000000</td>\n",
       "      <td>0.050000</td>\n",
       "      <td>18.000000</td>\n",
       "      <td>0.000000</td>\n",
       "      <td>110.280000</td>\n",
       "    </tr>\n",
       "    <tr>\n",
       "      <th>25%</th>\n",
       "      <td>5.170000</td>\n",
       "      <td>0.000000</td>\n",
       "      <td>13.460000</td>\n",
       "      <td>38.000000</td>\n",
       "      <td>0.000000</td>\n",
       "      <td>25445.600000</td>\n",
       "    </tr>\n",
       "    <tr>\n",
       "      <th>50%</th>\n",
       "      <td>13.680000</td>\n",
       "      <td>0.000000</td>\n",
       "      <td>35.010000</td>\n",
       "      <td>58.000000</td>\n",
       "      <td>1.000000</td>\n",
       "      <td>50290.700000</td>\n",
       "    </tr>\n",
       "    <tr>\n",
       "      <th>75%</th>\n",
       "      <td>22.080000</td>\n",
       "      <td>0.000000</td>\n",
       "      <td>71.660000</td>\n",
       "      <td>77.000000</td>\n",
       "      <td>2.000000</td>\n",
       "      <td>75004.500000</td>\n",
       "    </tr>\n",
       "    <tr>\n",
       "      <th>max</th>\n",
       "      <td>29.980000</td>\n",
       "      <td>9.950000</td>\n",
       "      <td>450.620000</td>\n",
       "      <td>97.000000</td>\n",
       "      <td>2.000000</td>\n",
       "      <td>99832.900000</td>\n",
       "    </tr>\n",
       "  </tbody>\n",
       "</table>\n",
       "</div>"
      ],
      "text/plain": [
       "          longdist     internat        local          age     children  \\\n",
       "count  4430.000000  4427.000000  4428.000000  4428.000000  4430.000000   \n",
       "mean     13.638023     0.835044    51.361093    57.562331     0.988939   \n",
       "std       9.393025     2.233639    54.685012    22.832404     0.824448   \n",
       "min       0.000000     0.000000     0.050000    18.000000     0.000000   \n",
       "25%       5.170000     0.000000    13.460000    38.000000     0.000000   \n",
       "50%      13.680000     0.000000    35.010000    58.000000     1.000000   \n",
       "75%      22.080000     0.000000    71.660000    77.000000     2.000000   \n",
       "max      29.980000     9.950000   450.620000    97.000000     2.000000   \n",
       "\n",
       "             income  \n",
       "count   4430.000000  \n",
       "mean   50296.423896  \n",
       "std    28439.435264  \n",
       "min      110.280000  \n",
       "25%    25445.600000  \n",
       "50%    50290.700000  \n",
       "75%    75004.500000  \n",
       "max    99832.900000  "
      ]
     },
     "execution_count": 7,
     "metadata": {},
     "output_type": "execute_result"
    }
   ],
   "source": [
    "# смотрим статистики для количественных переменных\n",
    "data.describe()"
   ]
  },
  {
   "cell_type": "code",
   "execution_count": 8,
   "metadata": {},
   "outputs": [
    {
     "data": {
      "text/html": [
       "<div>\n",
       "<style scoped>\n",
       "    .dataframe tbody tr th:only-of-type {\n",
       "        vertical-align: middle;\n",
       "    }\n",
       "\n",
       "    .dataframe tbody tr th {\n",
       "        vertical-align: top;\n",
       "    }\n",
       "\n",
       "    .dataframe thead th {\n",
       "        text-align: right;\n",
       "    }\n",
       "</style>\n",
       "<table border=\"1\" class=\"dataframe\">\n",
       "  <thead>\n",
       "    <tr style=\"text-align: right;\">\n",
       "      <th></th>\n",
       "      <th>int_disc</th>\n",
       "      <th>billtype</th>\n",
       "      <th>pay</th>\n",
       "      <th>gender</th>\n",
       "      <th>marital</th>\n",
       "    </tr>\n",
       "  </thead>\n",
       "  <tbody>\n",
       "    <tr>\n",
       "      <th>count</th>\n",
       "      <td>4430</td>\n",
       "      <td>4427</td>\n",
       "      <td>4429</td>\n",
       "      <td>4430</td>\n",
       "      <td>4427</td>\n",
       "    </tr>\n",
       "    <tr>\n",
       "      <th>unique</th>\n",
       "      <td>2</td>\n",
       "      <td>2</td>\n",
       "      <td>4</td>\n",
       "      <td>4</td>\n",
       "      <td>5</td>\n",
       "    </tr>\n",
       "    <tr>\n",
       "      <th>top</th>\n",
       "      <td>Нет</td>\n",
       "      <td>Бюджетный</td>\n",
       "      <td>CC</td>\n",
       "      <td>Женский</td>\n",
       "      <td>Женат</td>\n",
       "    </tr>\n",
       "    <tr>\n",
       "      <th>freq</th>\n",
       "      <td>3054</td>\n",
       "      <td>2244</td>\n",
       "      <td>2561</td>\n",
       "      <td>2240</td>\n",
       "      <td>2620</td>\n",
       "    </tr>\n",
       "  </tbody>\n",
       "</table>\n",
       "</div>"
      ],
      "text/plain": [
       "       int_disc   billtype   pay   gender marital\n",
       "count      4430       4427  4429     4430    4427\n",
       "unique        2          2     4        4       5\n",
       "top         Нет  Бюджетный    CC  Женский   Женат\n",
       "freq       3054       2244  2561     2240    2620"
      ]
     },
     "execution_count": 8,
     "metadata": {},
     "output_type": "execute_result"
    }
   ],
   "source": [
    "# смотрим статистики для категориальных переменных,\n",
    "# кроме зависимой переменной churn, создав список\n",
    "# категориальных переменных\n",
    "categorical_columns = [c for c in data.loc[:, data.columns != 'churn'] if data[c].dtype.name == 'object']\n",
    "data[categorical_columns].describe()"
   ]
  },
  {
   "cell_type": "code",
   "execution_count": 9,
   "metadata": {},
   "outputs": [
    {
     "name": "stdout",
     "output_type": "stream",
     "text": [
      "['Нет' nan 'Да']\n",
      "['Бюджетный' nan 'Бесплатный']\n",
      "['CC' nan 'Auto' 'CH' 'CD']\n",
      "['Женский' 'Мужской' nan 'Женский&*' 'Мужской&*']\n",
      "['Женат' 'Одинокий' nan '_Одинокий' '_Женат' 'Же&нат']\n"
     ]
    }
   ],
   "source": [
    "# смотрим уникальные значения\n",
    "# категориальных переменных\n",
    "for c in categorical_columns:\n",
    "    print(data[c].unique())"
   ]
  },
  {
   "cell_type": "code",
   "execution_count": 10,
   "metadata": {
    "scrolled": true
   },
   "outputs": [
    {
     "name": "stdout",
     "output_type": "stream",
     "text": [
      "Нет    3054\n",
      "Да     1376\n",
      "NaN       1\n",
      "Name: int_disc, dtype: int64\n",
      "Бюджетный     2244\n",
      "Бесплатный    2183\n",
      "NaN              4\n",
      "Name: billtype, dtype: int64\n",
      "CC      2561\n",
      "CH       977\n",
      "Auto     889\n",
      "CD         2\n",
      "NaN        2\n",
      "Name: pay, dtype: int64\n",
      "Женский      2240\n",
      "Мужской      2183\n",
      "Женский&*       4\n",
      "Мужской&*       3\n",
      "NaN             1\n",
      "Name: gender, dtype: int64\n",
      "Женат        2620\n",
      "Одинокий     1800\n",
      "NaN             4\n",
      "_Женат          3\n",
      "Же&нат          2\n",
      "_Одинокий       2\n",
      "Name: marital, dtype: int64\n"
     ]
    }
   ],
   "source": [
    "# смотрим частоты категорий для\n",
    "# категориальных переменных\n",
    "for c in categorical_columns:\n",
    "    print(data[c].value_counts(dropna=False))"
   ]
  },
  {
   "cell_type": "code",
   "execution_count": 11,
   "metadata": {},
   "outputs": [
    {
     "name": "stdout",
     "output_type": "stream",
     "text": [
      "Женский    2244\n",
      "Мужской    2186\n",
      "NaN           1\n",
      "Name: gender, dtype: int64\n",
      "Женат       2625\n",
      "Одинокий    1802\n",
      "NaN            4\n",
      "Name: marital, dtype: int64\n"
     ]
    }
   ],
   "source": [
    "# удяляем лишние символы в категориях переменных\n",
    "# gender и marital\n",
    "for i in ['gender', 'marital']:\n",
    "    data[i] = data[i].str.replace('[*&_]', '')\n",
    "\n",
    "# смотрим результаты\n",
    "for i in ['gender', 'marital']:\n",
    "    print(data[i].value_counts(dropna=False))"
   ]
  },
  {
   "cell_type": "code",
   "execution_count": 12,
   "metadata": {},
   "outputs": [],
   "source": [
    "# пишем функцию, создающую парные взаимодействия\n",
    "def make_conj(df, feature1, feature2):\n",
    "    df[feature1 + \"_\" + feature2] = df[feature1].astype('object') + \" + \" + df[feature2].astype('object')"
   ]
  },
  {
   "cell_type": "code",
   "execution_count": 13,
   "metadata": {},
   "outputs": [],
   "source": [
    "# применяем функцию\n",
    "make_conj(data, 'gender', 'marital')"
   ]
  },
  {
   "cell_type": "code",
   "execution_count": 14,
   "metadata": {},
   "outputs": [
    {
     "data": {
      "text/plain": [
       "CC      2563\n",
       "CH       977\n",
       "Auto     889\n",
       "NaN        2\n",
       "Name: pay, dtype: int64"
      ]
     },
     "execution_count": 14,
     "metadata": {},
     "output_type": "execute_result"
    }
   ],
   "source": [
    "# заменяем редкую категорию модой\n",
    "data.at[data['pay'] == 'CD', 'pay'] = 'CC'\n",
    "data['pay'].value_counts(dropna = False)"
   ]
  },
  {
   "cell_type": "code",
   "execution_count": 15,
   "metadata": {},
   "outputs": [],
   "source": [
    "# поделим возраст на длительность междугородних звонков в минутах\n",
    "data['ratio'] = data['age']/data['longdist']\n",
    "# заменяем бесконечные значения на 1\n",
    "data['ratio'].replace([np.inf, -np.inf], 1, inplace=True)"
   ]
  },
  {
   "cell_type": "code",
   "execution_count": 16,
   "metadata": {},
   "outputs": [],
   "source": [
    "# поделим длительность междугородних звонков в минутах на\n",
    "# длительность международных звонков в минутах\n",
    "data['ratio2'] = data['longdist']/data['internat']\n",
    "# заменяем бесконечные значения на 0\n",
    "data['ratio2'].replace([np.inf, -np.inf], 0, inplace=True)"
   ]
  },
  {
   "cell_type": "code",
   "execution_count": 17,
   "metadata": {},
   "outputs": [],
   "source": [
    "# поделим доход на возраст\n",
    "data['ratio3'] = data['income']/data['age']\n",
    "# заменяем бесконечные значения на 0\n",
    "data['ratio3'].replace([np.inf, -np.inf], 0, inplace=True)"
   ]
  },
  {
   "cell_type": "code",
   "execution_count": 18,
   "metadata": {},
   "outputs": [],
   "source": [
    "# поделим возраст на количество детей\n",
    "data['ratio4'] = data['age']/data['children']\n",
    "# заменяем бесконечные значения на 0\n",
    "data['ratio4'].replace([np.inf, -np.inf], 0, inplace=True)"
   ]
  },
  {
   "cell_type": "code",
   "execution_count": 19,
   "metadata": {},
   "outputs": [],
   "source": [
    "# разбиваем данные на обучающую и контрольную выборки\n",
    "train = data.sample(frac=0.7, random_state=200)\n",
    "test = data.drop(train.index)"
   ]
  },
  {
   "cell_type": "code",
   "execution_count": 20,
   "metadata": {},
   "outputs": [
    {
     "data": {
      "text/plain": [
       "longdist            1\n",
       "internat            4\n",
       "local               2\n",
       "int_disc            0\n",
       "billtype            4\n",
       "pay                 2\n",
       "age                 2\n",
       "gender              1\n",
       "marital             3\n",
       "children            1\n",
       "income              1\n",
       "churn               0\n",
       "gender_marital      3\n",
       "ratio               3\n",
       "ratio2            336\n",
       "ratio3              2\n",
       "ratio4              2\n",
       "dtype: int64"
      ]
     },
     "execution_count": 20,
     "metadata": {},
     "output_type": "execute_result"
    }
   ],
   "source": [
    "# выводим информацию о количестве пропусков\n",
    "# по каждой переменной в обучающей выборке\n",
    "train.isnull().sum()"
   ]
  },
  {
   "cell_type": "code",
   "execution_count": 21,
   "metadata": {
    "scrolled": true
   },
   "outputs": [
    {
     "data": {
      "text/plain": [
       "longdist            0\n",
       "internat            0\n",
       "local               1\n",
       "int_disc            1\n",
       "billtype            0\n",
       "pay                 0\n",
       "age                 1\n",
       "gender              0\n",
       "marital             1\n",
       "children            0\n",
       "income              0\n",
       "churn               0\n",
       "gender_marital      1\n",
       "ratio               1\n",
       "ratio2            161\n",
       "ratio3              1\n",
       "ratio4              1\n",
       "dtype: int64"
      ]
     },
     "execution_count": 21,
     "metadata": {},
     "output_type": "execute_result"
    }
   ],
   "source": [
    "# выводим информацию о количестве пропусков\n",
    "# по каждой переменной в контрольной выборке\n",
    "test.isnull().sum()"
   ]
  },
  {
   "cell_type": "code",
   "execution_count": 22,
   "metadata": {},
   "outputs": [],
   "source": [
    "# заменяем пропуски в количественных переменных средним, создав\n",
    "# список количественных переменных для работы с циклом\n",
    "numerical_columns = train.dtypes[train.dtypes != 'object'].index \n",
    "for i in numerical_columns:\n",
    "    train[i].fillna(train[i].mean(), inplace=True)\n",
    "    test[i].fillna(train[i].mean(), inplace=True)"
   ]
  },
  {
   "cell_type": "code",
   "execution_count": 23,
   "metadata": {},
   "outputs": [
    {
     "name": "stdout",
     "output_type": "stream",
     "text": [
      "Нет    2139\n",
      "Да      963\n",
      "Name: int_disc, dtype: int64\n",
      "Бюджетный     1569\n",
      "Бесплатный    1533\n",
      "Name: billtype, dtype: int64\n",
      "CC      1810\n",
      "CH       688\n",
      "Auto     604\n",
      "Name: pay, dtype: int64\n",
      "Мужской    1553\n",
      "Женский    1549\n",
      "Name: gender, dtype: int64\n",
      "Женат       1821\n",
      "Одинокий    1281\n",
      "Name: marital, dtype: int64\n",
      "Женский + Женат       930\n",
      "Мужской + Женат       891\n",
      "Мужской + Одинокий    660\n",
      "Женский + Одинокий    621\n",
      "Name: gender_marital, dtype: int64\n"
     ]
    }
   ],
   "source": [
    "# заменяем пропуски в категориальных переменных модой, не забываем пересоздать список\n",
    "# категориальных предикторов для работы с циклом, потому что появилась новая переменная\n",
    "# gender_marital и в ней есть пропуски, нуждающиеся в импутации\n",
    "categorical_columns = [c for c in data.loc[:, data.columns != 'churn'] if data[c].dtype.name == 'object']\n",
    "for i in categorical_columns:\n",
    "    train[i].fillna(train[i].value_counts().index[0], inplace=True)\n",
    "    test[i].fillna(train[i].value_counts().index[0], inplace=True)\n",
    "\n",
    "for c in categorical_columns:\n",
    "    print(train[c].value_counts(dropna=False))"
   ]
  },
  {
   "cell_type": "code",
   "execution_count": 24,
   "metadata": {
    "scrolled": true
   },
   "outputs": [
    {
     "name": "stdout",
     "output_type": "stream",
     "text": [
      "longdist          0\n",
      "internat          0\n",
      "local             0\n",
      "int_disc          0\n",
      "billtype          0\n",
      "pay               0\n",
      "age               0\n",
      "gender            0\n",
      "marital           0\n",
      "children          0\n",
      "income            0\n",
      "churn             0\n",
      "gender_marital    0\n",
      "ratio             0\n",
      "ratio2            0\n",
      "ratio3            0\n",
      "ratio4            0\n",
      "dtype: int64\n",
      "longdist          0\n",
      "internat          0\n",
      "local             0\n",
      "int_disc          0\n",
      "billtype          0\n",
      "pay               0\n",
      "age               0\n",
      "gender            0\n",
      "marital           0\n",
      "children          0\n",
      "income            0\n",
      "churn             0\n",
      "gender_marital    0\n",
      "ratio             0\n",
      "ratio2            0\n",
      "ratio3            0\n",
      "ratio4            0\n",
      "dtype: int64\n"
     ]
    }
   ],
   "source": [
    "# смотрим пропуски\n",
    "print(train.isnull().sum())\n",
    "print(test.isnull().sum())"
   ]
  },
  {
   "cell_type": "code",
   "execution_count": 25,
   "metadata": {},
   "outputs": [],
   "source": [
    "# подготавливаем данные перед преобразованием Бокса-Кокса\n",
    "# (данные должны быть положительными)\n",
    "train.replace({0: 0.5}, inplace=True)\n",
    "test.replace({0: 0.5}, inplace=True)"
   ]
  },
  {
   "cell_type": "code",
   "execution_count": 26,
   "metadata": {},
   "outputs": [],
   "source": [
    "# увеличиваем ширину столбцов\n",
    "pd.set_option('max_colwidth', 800)"
   ]
  },
  {
   "cell_type": "code",
   "execution_count": 27,
   "metadata": {},
   "outputs": [],
   "source": [
    "# выполняем преобразование Бокса-Кокса\n",
    "from scipy.stats import boxcox\n",
    "for i in numerical_columns:  \n",
    "    train[i], fitted_lambda = boxcox(train[i])     \n",
    "    test[i] = boxcox(test[i], fitted_lambda)   "
   ]
  },
  {
   "cell_type": "code",
   "execution_count": 28,
   "metadata": {},
   "outputs": [],
   "source": [
    "# выполняем стандартизацию количественных переменных\n",
    "train_copy = train.copy()\n",
    "for i in numerical_columns:    \n",
    "    train[i] = (train[i] - train[i].mean()) / train[i].std()\n",
    "    test[i] = (test[i] - train_copy[i].mean()) / train_copy[i].std()"
   ]
  },
  {
   "cell_type": "code",
   "execution_count": 29,
   "metadata": {},
   "outputs": [
    {
     "name": "stdout",
     "output_type": "stream",
     "text": [
      "<class 'pandas.core.frame.DataFrame'>\n",
      "Int64Index: 3102 entries, 2157 to 4105\n",
      "Data columns (total 17 columns):\n",
      "longdist          3102 non-null float64\n",
      "internat          3102 non-null float64\n",
      "local             3102 non-null float64\n",
      "int_disc          3102 non-null object\n",
      "billtype          3102 non-null object\n",
      "pay               3102 non-null object\n",
      "age               3102 non-null float64\n",
      "gender            3102 non-null object\n",
      "marital           3102 non-null object\n",
      "children          3102 non-null float64\n",
      "income            3102 non-null float64\n",
      "churn             3102 non-null object\n",
      "gender_marital    3102 non-null object\n",
      "ratio             3102 non-null float64\n",
      "ratio2            3102 non-null float64\n",
      "ratio3            3102 non-null float64\n",
      "ratio4            3102 non-null float64\n",
      "dtypes: float64(10), object(7)\n",
      "memory usage: 436.2+ KB\n",
      "None\n",
      "<class 'pandas.core.frame.DataFrame'>\n",
      "Int64Index: 1329 entries, 2 to 4430\n",
      "Data columns (total 17 columns):\n",
      "longdist          1329 non-null float64\n",
      "internat          1329 non-null float64\n",
      "local             1329 non-null float64\n",
      "int_disc          1329 non-null object\n",
      "billtype          1329 non-null object\n",
      "pay               1329 non-null object\n",
      "age               1329 non-null float64\n",
      "gender            1329 non-null object\n",
      "marital           1329 non-null object\n",
      "children          1329 non-null float64\n",
      "income            1329 non-null float64\n",
      "churn             1329 non-null object\n",
      "gender_marital    1329 non-null object\n",
      "ratio             1329 non-null float64\n",
      "ratio2            1329 non-null float64\n",
      "ratio3            1329 non-null float64\n",
      "ratio4            1329 non-null float64\n",
      "dtypes: float64(10), object(7)\n",
      "memory usage: 186.9+ KB\n",
      "None\n"
     ]
    }
   ],
   "source": [
    "# смотрим типы переменных\n",
    "print(train.info())\n",
    "print(test.info())"
   ]
  },
  {
   "cell_type": "code",
   "execution_count": 30,
   "metadata": {
    "scrolled": true
   },
   "outputs": [
    {
     "name": "stdout",
     "output_type": "stream",
     "text": [
      "Исходные переменные:\n",
      " ['longdist', 'internat', 'local', 'int_disc', 'billtype', 'pay', 'age', 'gender', 'marital', 'children', 'income', 'churn', 'gender_marital', 'ratio', 'ratio2', 'ratio3', 'ratio4'] \n",
      "\n",
      "Переменные после get_dummies:\n",
      " ['longdist', 'internat', 'local', 'age', 'children', 'income', 'ratio', 'ratio2', 'ratio3', 'ratio4', 'int_disc_Да', 'int_disc_Нет', 'billtype_Бесплатный', 'billtype_Бюджетный', 'pay_Auto', 'pay_CC', 'pay_CH', 'gender_Женский', 'gender_Мужской', 'marital_Женат', 'marital_Одинокий', 'churn_Остается', 'churn_Уходит', 'gender_marital_Женский + Женат', 'gender_marital_Женский + Одинокий', 'gender_marital_Мужской + Женат', 'gender_marital_Мужской + Одинокий']\n",
      "Исходные переменные:\n",
      " ['longdist', 'internat', 'local', 'int_disc', 'billtype', 'pay', 'age', 'gender', 'marital', 'children', 'income', 'churn', 'gender_marital', 'ratio', 'ratio2', 'ratio3', 'ratio4'] \n",
      "\n",
      "Переменные после get_dummies:\n",
      " ['longdist', 'internat', 'local', 'age', 'children', 'income', 'ratio', 'ratio2', 'ratio3', 'ratio4', 'int_disc_Да', 'int_disc_Нет', 'billtype_Бесплатный', 'billtype_Бюджетный', 'pay_Auto', 'pay_CC', 'pay_CH', 'gender_Женский', 'gender_Мужской', 'marital_Женат', 'marital_Одинокий', 'churn_Остается', 'churn_Уходит', 'gender_marital_Женский + Женат', 'gender_marital_Женский + Одинокий', 'gender_marital_Мужской + Женат', 'gender_marital_Мужской + Одинокий']\n"
     ]
    }
   ],
   "source": [
    "# печатаем названия столбцов до и после\n",
    "# дамми-кодирования\n",
    "print(\"Исходные переменные:\\n\", list(train.columns), \"\\n\")\n",
    "train_dummies = pd.get_dummies(train)\n",
    "print(\"Переменные после get_dummies:\\n\", list(train_dummies.columns))\n",
    "\n",
    "print(\"Исходные переменные:\\n\", list(test.columns), \"\\n\")\n",
    "test_dummies = pd.get_dummies(test)\n",
    "print(\"Переменные после get_dummies:\\n\", list(test_dummies.columns))"
   ]
  },
  {
   "cell_type": "code",
   "execution_count": 31,
   "metadata": {
    "scrolled": true
   },
   "outputs": [],
   "source": [
    "# создаем обучающий и контрольный массивы меток\n",
    "y_train = train_dummies.loc[:, 'churn_Уходит']\n",
    "y_test = test_dummies.loc[:, 'churn_Уходит']\n",
    "# создаем обучающий и контрольный массивы признаков\n",
    "train_dummies.drop(['churn_Остается', 'churn_Уходит'], axis=1, inplace=True)\n",
    "test_dummies.drop(['churn_Остается', 'churn_Уходит'], axis=1, inplace=True)\n",
    "X_train = train_dummies.loc[:, 'longdist':'gender_marital_Мужской + Одинокий']\n",
    "X_test = test_dummies.loc[:, 'longdist':'gender_marital_Мужской + Одинокий']"
   ]
  },
  {
   "cell_type": "markdown",
   "metadata": {},
   "source": [
    "## Построение модели логистической регрессии с помощью класса LogisticRegression"
   ]
  },
  {
   "cell_type": "code",
   "execution_count": 32,
   "metadata": {},
   "outputs": [
    {
     "name": "stdout",
     "output_type": "stream",
     "text": [
      "Правильность на обучающей выборке: 0.812\n",
      "Правильность на контрольной выборке: 0.809\n"
     ]
    }
   ],
   "source": [
    "# импортируем класс LogisticRegression\n",
    "from sklearn.linear_model import LogisticRegression\n",
    "# создаем экземпляр класса LogisticRegression (по сути\n",
    "# задаем настройки панели)\n",
    "logreg = LogisticRegression().fit(X_train, y_train)\n",
    "# печатаем значения правильности\n",
    "print(\"Правильность на обучающей выборке: {:.3f}\".format(logreg.score(X_train, y_train)))\n",
    "print(\"Правильность на контрольной выборке: {:.3f}\".format(logreg.score(X_test, y_test)))"
   ]
  },
  {
   "cell_type": "code",
   "execution_count": 33,
   "metadata": {},
   "outputs": [
    {
     "name": "stdout",
     "output_type": "stream",
     "text": [
      "AUC на обучающей выборке: 0.885\n",
      "AUC на контрольной выборке: 0.888\n"
     ]
    }
   ],
   "source": [
    "# импортируем функцию roc_auc_score для вычисления AUC\n",
    "from sklearn.metrics import roc_auc_score\n",
    "print(\"AUC на обучающей выборке: {:.3f}\".\n",
    "      format(roc_auc_score(y_train, logreg.predict_proba(X_train)[:, 1])))\n",
    "print(\"AUC на контрольной выборке: {:.3f}\".\n",
    "      format(roc_auc_score(y_test, logreg.predict_proba(X_test)[:, 1])))"
   ]
  },
  {
   "cell_type": "code",
   "execution_count": 34,
   "metadata": {},
   "outputs": [],
   "source": [
    "# пишем функцию, выполняющую биннинг\n",
    "def user_bin(train, number):\n",
    "    tv = 'churn'\n",
    "    col_list = []  \n",
    "    iv_list = []\n",
    "    bins_list = [] \n",
    "    groups_list = []      \n",
    "    a= 0.01  \n",
    "    for var_name in train: \n",
    "        # используем для биннинга переменные с более чем 24 уникальными значениями \n",
    "        if(len(train[var_name].unique()) >= 24):\n",
    "            col_list.append(var_name)  \n",
    "    print('У нас ' + str(len(col_list)) + ' переменных, пригодных для биннинга')    \n",
    "    for var_name in col_list:  \n",
    "        num = number  \n",
    "        bins = np.linspace(train[var_name].min(), train[var_name].max(), num) \n",
    "        rounded_bins = np.round(bins, 2)\n",
    "        groups = np.digitize(train[var_name], bins)        \n",
    "        biv = pd.crosstab(groups, train[tv])   \n",
    "        # умножаем на 1.0, чтобы преобразовать во float и добавляем \"a=0.01\", чтобы избежать деления на ноль\n",
    "        WoE = np.log((1.0*biv['Остается']/sum(biv['Остается']) + a) / (1.0*biv['Уходит']/sum(biv['Уходит']) + a))\n",
    "        IV = sum(((1.0*biv['Остается']/sum(biv['Остается']) + a) - (1.0*biv['Уходит']/sum(biv['Уходит']) + a))*np.log((1.0*biv['Остается']/sum(biv['Остается']) + a) / (1.0*biv['Уходит']/sum(biv['Уходит']) + a)))\n",
    "        iv_list.append(IV) \n",
    "        bins_list.append(num)        \n",
    "        groups_list.append(rounded_bins)\n",
    "    result = pd.DataFrame({'Переменная' : col_list, \n",
    "                           'Бины': groups_list, \n",
    "                           'IV' : iv_list,\n",
    "                           'Количество_бинов' : bins_list})    \n",
    "    return(result.sort_values(by = 'IV', ascending = False))"
   ]
  },
  {
   "cell_type": "code",
   "execution_count": 35,
   "metadata": {
    "scrolled": false
   },
   "outputs": [
    {
     "name": "stdout",
     "output_type": "stream",
     "text": [
      "У нас 9 переменных, пригодных для биннинга\n"
     ]
    },
    {
     "data": {
      "text/html": [
       "<div>\n",
       "<style scoped>\n",
       "    .dataframe tbody tr th:only-of-type {\n",
       "        vertical-align: middle;\n",
       "    }\n",
       "\n",
       "    .dataframe tbody tr th {\n",
       "        vertical-align: top;\n",
       "    }\n",
       "\n",
       "    .dataframe thead th {\n",
       "        text-align: right;\n",
       "    }\n",
       "</style>\n",
       "<table border=\"1\" class=\"dataframe\">\n",
       "  <thead>\n",
       "    <tr style=\"text-align: right;\">\n",
       "      <th></th>\n",
       "      <th>Переменная</th>\n",
       "      <th>Бины</th>\n",
       "      <th>IV</th>\n",
       "      <th>Количество_бинов</th>\n",
       "    </tr>\n",
       "  </thead>\n",
       "  <tbody>\n",
       "    <tr>\n",
       "      <th>6</th>\n",
       "      <td>ratio2</td>\n",
       "      <td>[-9.5, -8.18, -6.85, -5.52, -4.2, -2.87, -1.54, -0.21, 1.11, 2.44]</td>\n",
       "      <td>0.756717</td>\n",
       "      <td>10</td>\n",
       "    </tr>\n",
       "    <tr>\n",
       "      <th>0</th>\n",
       "      <td>longdist</td>\n",
       "      <td>[-1.92, -1.55, -1.17, -0.8, -0.42, -0.05, 0.33, 0.7, 1.08, 1.45]</td>\n",
       "      <td>0.433322</td>\n",
       "      <td>10</td>\n",
       "    </tr>\n",
       "    <tr>\n",
       "      <th>1</th>\n",
       "      <td>internat</td>\n",
       "      <td>[-15.23, -13.26, -11.29, -9.32, -7.35, -5.39, -3.42, -1.45, 0.52, 2.48]</td>\n",
       "      <td>0.375355</td>\n",
       "      <td>10</td>\n",
       "    </tr>\n",
       "    <tr>\n",
       "      <th>5</th>\n",
       "      <td>ratio</td>\n",
       "      <td>[-2.33, -1.77, -1.21, -0.65, -0.09, 0.47, 1.03, 1.59, 2.14, 2.7]</td>\n",
       "      <td>0.308490</td>\n",
       "      <td>10</td>\n",
       "    </tr>\n",
       "    <tr>\n",
       "      <th>2</th>\n",
       "      <td>local</td>\n",
       "      <td>[-2.87, -2.21, -1.54, -0.88, -0.22, 0.44, 1.1, 1.76, 2.42, 3.08]</td>\n",
       "      <td>0.230167</td>\n",
       "      <td>10</td>\n",
       "    </tr>\n",
       "    <tr>\n",
       "      <th>3</th>\n",
       "      <td>age</td>\n",
       "      <td>[-1.86, -1.47, -1.08, -0.69, -0.3, 0.09, 0.48, 0.87, 1.26, 1.65]</td>\n",
       "      <td>0.119664</td>\n",
       "      <td>10</td>\n",
       "    </tr>\n",
       "    <tr>\n",
       "      <th>7</th>\n",
       "      <td>ratio3</td>\n",
       "      <td>[-2.87, -2.22, -1.56, -0.91, -0.25, 0.4, 1.06, 1.71, 2.37, 3.02]</td>\n",
       "      <td>0.067524</td>\n",
       "      <td>10</td>\n",
       "    </tr>\n",
       "    <tr>\n",
       "      <th>8</th>\n",
       "      <td>ratio4</td>\n",
       "      <td>[-1.3, -0.99, -0.68, -0.38, -0.07, 0.24, 0.54, 0.85, 1.16, 1.46]</td>\n",
       "      <td>0.033225</td>\n",
       "      <td>10</td>\n",
       "    </tr>\n",
       "    <tr>\n",
       "      <th>4</th>\n",
       "      <td>income</td>\n",
       "      <td>[-2.19, -1.78, -1.36, -0.94, -0.52, -0.1, 0.32, 0.74, 1.16, 1.58]</td>\n",
       "      <td>0.021932</td>\n",
       "      <td>10</td>\n",
       "    </tr>\n",
       "  </tbody>\n",
       "</table>\n",
       "</div>"
      ],
      "text/plain": [
       "  Переменная  \\\n",
       "6     ratio2   \n",
       "0   longdist   \n",
       "1   internat   \n",
       "5      ratio   \n",
       "2      local   \n",
       "3        age   \n",
       "7     ratio3   \n",
       "8     ratio4   \n",
       "4     income   \n",
       "\n",
       "                                                                      Бины  \\\n",
       "6       [-9.5, -8.18, -6.85, -5.52, -4.2, -2.87, -1.54, -0.21, 1.11, 2.44]   \n",
       "0         [-1.92, -1.55, -1.17, -0.8, -0.42, -0.05, 0.33, 0.7, 1.08, 1.45]   \n",
       "1  [-15.23, -13.26, -11.29, -9.32, -7.35, -5.39, -3.42, -1.45, 0.52, 2.48]   \n",
       "5         [-2.33, -1.77, -1.21, -0.65, -0.09, 0.47, 1.03, 1.59, 2.14, 2.7]   \n",
       "2         [-2.87, -2.21, -1.54, -0.88, -0.22, 0.44, 1.1, 1.76, 2.42, 3.08]   \n",
       "3         [-1.86, -1.47, -1.08, -0.69, -0.3, 0.09, 0.48, 0.87, 1.26, 1.65]   \n",
       "7         [-2.87, -2.22, -1.56, -0.91, -0.25, 0.4, 1.06, 1.71, 2.37, 3.02]   \n",
       "8         [-1.3, -0.99, -0.68, -0.38, -0.07, 0.24, 0.54, 0.85, 1.16, 1.46]   \n",
       "4        [-2.19, -1.78, -1.36, -0.94, -0.52, -0.1, 0.32, 0.74, 1.16, 1.58]   \n",
       "\n",
       "         IV  Количество_бинов  \n",
       "6  0.756717                10  \n",
       "0  0.433322                10  \n",
       "1  0.375355                10  \n",
       "5  0.308490                10  \n",
       "2  0.230167                10  \n",
       "3  0.119664                10  \n",
       "7  0.067524                10  \n",
       "8  0.033225                10  \n",
       "4  0.021932                10  "
      ]
     },
     "execution_count": 35,
     "metadata": {},
     "output_type": "execute_result"
    }
   ],
   "source": [
    "# применяем функцию, бьем каждую переменную,\n",
    "# пригодную для биннинга, на 10 категорий\n",
    "user_bin(train, 10)"
   ]
  },
  {
   "cell_type": "code",
   "execution_count": 36,
   "metadata": {},
   "outputs": [],
   "source": [
    "# создадим бины для переменной longdist\n",
    "bins = [-np.inf, -1.55, -1.17, -0.8, -0.42, -0.05, 0.33, 0.7, 1.08, np.inf]\n",
    "# выполняем биннинг переменной longdist\n",
    "train['longdistcat'] = pd.cut(train['longdist'], bins).astype('object')\n",
    "test['longdistcat'] = pd.cut(test['longdist'], bins).astype('object')"
   ]
  },
  {
   "cell_type": "code",
   "execution_count": 37,
   "metadata": {},
   "outputs": [
    {
     "data": {
      "text/plain": [
       "(1.08, inf]       501\n",
       "(0.7, 1.08]       492\n",
       "(-inf, -1.55]     420\n",
       "(-0.05, 0.33]     411\n",
       "(0.33, 0.7]       393\n",
       "(-0.42, -0.05]    285\n",
       "(-0.8, -0.42]     255\n",
       "(-1.17, -0.8]     190\n",
       "(-1.55, -1.17]    155\n",
       "Name: longdistcat, dtype: int64"
      ]
     },
     "execution_count": 37,
     "metadata": {},
     "output_type": "execute_result"
    }
   ],
   "source": [
    "# выведем частоты категорий новой \n",
    "# переменной longdistcat\n",
    "train['longdistcat'].value_counts()"
   ]
  },
  {
   "cell_type": "markdown",
   "metadata": {},
   "source": [
    "Обратите внимание на квадратные и круглые скобки интервалов. Интервал закрывается либо слева, либо справа, то есть соответствующий конец включается в данный интервал. Согласно принятой в математике нотации интервалов круглая скобка означает, что соответствующий конец не включается (открыт), а квадратная – что включается (закрыт). В данном случае интервалы открыты слева и закрыты справа."
   ]
  },
  {
   "cell_type": "code",
   "execution_count": 38,
   "metadata": {},
   "outputs": [],
   "source": [
    "# выполняем биннинг переменной age\n",
    "bins = [-np.inf, -1.47, -1.08, -0.69, -0.3, 0.09, 0.48, 0.87, 1.26, np.inf]\n",
    "train['agecat'] = pd.cut(train['age'], bins).astype('object')\n",
    "test['agecat'] = pd.cut(test['age'], bins).astype('object')"
   ]
  },
  {
   "cell_type": "code",
   "execution_count": 39,
   "metadata": {
    "scrolled": true
   },
   "outputs": [
    {
     "name": "stdout",
     "output_type": "stream",
     "text": [
      "Исходные переменные:\n",
      " ['longdist', 'internat', 'local', 'int_disc', 'billtype', 'pay', 'age', 'gender', 'marital', 'children', 'income', 'churn', 'gender_marital', 'ratio', 'ratio2', 'ratio3', 'ratio4', 'longdistcat', 'agecat'] \n",
      "\n",
      "Переменные после get_dummies:\n",
      " ['longdist', 'internat', 'local', 'age', 'children', 'income', 'ratio', 'ratio2', 'ratio3', 'ratio4', 'int_disc_Да', 'int_disc_Нет', 'billtype_Бесплатный', 'billtype_Бюджетный', 'pay_Auto', 'pay_CC', 'pay_CH', 'gender_Женский', 'gender_Мужской', 'marital_Женат', 'marital_Одинокий', 'churn_Остается', 'churn_Уходит', 'gender_marital_Женский + Женат', 'gender_marital_Женский + Одинокий', 'gender_marital_Мужской + Женат', 'gender_marital_Мужской + Одинокий', 'longdistcat_(-inf, -1.55]', 'longdistcat_(-1.55, -1.17]', 'longdistcat_(-1.17, -0.8]', 'longdistcat_(-0.8, -0.42]', 'longdistcat_(-0.42, -0.05]', 'longdistcat_(-0.05, 0.33]', 'longdistcat_(0.33, 0.7]', 'longdistcat_(0.7, 1.08]', 'longdistcat_(1.08, inf]', 'agecat_(-inf, -1.47]', 'agecat_(-1.47, -1.08]', 'agecat_(-1.08, -0.69]', 'agecat_(-0.69, -0.3]', 'agecat_(-0.3, 0.09]', 'agecat_(0.09, 0.48]', 'agecat_(0.48, 0.87]', 'agecat_(0.87, 1.26]', 'agecat_(1.26, inf]']\n",
      "Исходные переменные:\n",
      " ['longdist', 'internat', 'local', 'int_disc', 'billtype', 'pay', 'age', 'gender', 'marital', 'children', 'income', 'churn', 'gender_marital', 'ratio', 'ratio2', 'ratio3', 'ratio4', 'longdistcat', 'agecat'] \n",
      "\n",
      "Переменные после get_dummies:\n",
      " ['longdist', 'internat', 'local', 'age', 'children', 'income', 'ratio', 'ratio2', 'ratio3', 'ratio4', 'int_disc_Да', 'int_disc_Нет', 'billtype_Бесплатный', 'billtype_Бюджетный', 'pay_Auto', 'pay_CC', 'pay_CH', 'gender_Женский', 'gender_Мужской', 'marital_Женат', 'marital_Одинокий', 'churn_Остается', 'churn_Уходит', 'gender_marital_Женский + Женат', 'gender_marital_Женский + Одинокий', 'gender_marital_Мужской + Женат', 'gender_marital_Мужской + Одинокий', 'longdistcat_(-inf, -1.55]', 'longdistcat_(-1.55, -1.17]', 'longdistcat_(-1.17, -0.8]', 'longdistcat_(-0.8, -0.42]', 'longdistcat_(-0.42, -0.05]', 'longdistcat_(-0.05, 0.33]', 'longdistcat_(0.33, 0.7]', 'longdistcat_(0.7, 1.08]', 'longdistcat_(1.08, inf]', 'agecat_(-inf, -1.47]', 'agecat_(-1.47, -1.08]', 'agecat_(-1.08, -0.69]', 'agecat_(-0.69, -0.3]', 'agecat_(-0.3, 0.09]', 'agecat_(0.09, 0.48]', 'agecat_(0.48, 0.87]', 'agecat_(0.87, 1.26]', 'agecat_(1.26, inf]']\n"
     ]
    }
   ],
   "source": [
    "# печатаем названия столбцов до и после\n",
    "# дамми-кодирования\n",
    "print(\"Исходные переменные:\\n\", list(train.columns), \"\\n\")\n",
    "train_dum = pd.get_dummies(train)\n",
    "print(\"Переменные после get_dummies:\\n\", list(train_dum.columns))\n",
    "\n",
    "print(\"Исходные переменные:\\n\", list(test.columns), \"\\n\")\n",
    "test_dum = pd.get_dummies(test)\n",
    "print(\"Переменные после get_dummies:\\n\", list(test_dum.columns))"
   ]
  },
  {
   "cell_type": "code",
   "execution_count": 40,
   "metadata": {},
   "outputs": [],
   "source": [
    "# создаем обучающий и контрольный массивы признаков\n",
    "train_dum.drop(['churn_Остается', 'churn_Уходит'], axis=1, inplace=True)\n",
    "test_dum.drop(['churn_Остается', 'churn_Уходит'], axis=1, inplace=True)\n",
    "X_tr = train_dum.loc[:, 'longdist':'agecat_(1.26, inf]']\n",
    "X_tst = test_dum.loc[:, 'longdist':'agecat_(1.26, inf]']"
   ]
  },
  {
   "cell_type": "code",
   "execution_count": 41,
   "metadata": {},
   "outputs": [
    {
     "name": "stdout",
     "output_type": "stream",
     "text": [
      "AUC на обучающей выборке: 0.905\n",
      "AUC на контрольной выборке: 0.901\n"
     ]
    }
   ],
   "source": [
    "# строим логистическую регрессию\n",
    "logreg2 = LogisticRegression().fit(X_tr, y_train)\n",
    "from sklearn.metrics import roc_auc_score\n",
    "print(\"AUC на обучающей выборке: {:.3f}\".\n",
    "      format(roc_auc_score(y_train, logreg2.predict_proba(X_tr)[:, 1])))\n",
    "print(\"AUC на контрольной выборке: {:.3f}\".\n",
    "      format(roc_auc_score(y_test, logreg2.predict_proba(X_tst)[:, 1])))"
   ]
  },
  {
   "cell_type": "code",
   "execution_count": 42,
   "metadata": {},
   "outputs": [],
   "source": [
    "# а теперь создадим взаимодействия между исходными категориальными\n",
    "# признаки и переменными, полученными в результате биннинга\n",
    "def make_conj2(df, feature1, feature2):\n",
    "    df[feature1 + \"_\" + feature2] = df[feature1].astype('str') + \" + \" + df[feature2].astype('str')"
   ]
  },
  {
   "cell_type": "code",
   "execution_count": 43,
   "metadata": {},
   "outputs": [],
   "source": [
    "make_conj2(train, 'gender', 'agecat')\n",
    "make_conj2(train, 'gender', 'longdistcat')\n",
    "\n",
    "make_conj2(test, 'gender', 'agecat')\n",
    "make_conj2(test, 'gender', 'longdistcat')"
   ]
  },
  {
   "cell_type": "code",
   "execution_count": 44,
   "metadata": {},
   "outputs": [
    {
     "name": "stdout",
     "output_type": "stream",
     "text": [
      "True\n",
      "True\n"
     ]
    }
   ],
   "source": [
    "# проверяем, совпадает ли количество категорий каждой переменной \n",
    "# в обучающей и контрольной выборке\n",
    "interactions_features = ['gender_longdistcat', 'gender_agecat']\n",
    "for i in interactions_features:\n",
    "    print(train[i].nunique() == test[i].nunique())"
   ]
  },
  {
   "cell_type": "code",
   "execution_count": 45,
   "metadata": {},
   "outputs": [
    {
     "name": "stdout",
     "output_type": "stream",
     "text": [
      "Исходные переменные:\n",
      " ['longdist', 'internat', 'local', 'int_disc', 'billtype', 'pay', 'age', 'gender', 'marital', 'children', 'income', 'churn', 'gender_marital', 'ratio', 'ratio2', 'ratio3', 'ratio4', 'longdistcat', 'agecat', 'gender_agecat', 'gender_longdistcat'] \n",
      "\n",
      "Переменные после get_dummies:\n",
      " ['longdist', 'internat', 'local', 'age', 'children', 'income', 'ratio', 'ratio2', 'ratio3', 'ratio4', 'int_disc_Да', 'int_disc_Нет', 'billtype_Бесплатный', 'billtype_Бюджетный', 'pay_Auto', 'pay_CC', 'pay_CH', 'gender_Женский', 'gender_Мужской', 'marital_Женат', 'marital_Одинокий', 'churn_Остается', 'churn_Уходит', 'gender_marital_Женский + Женат', 'gender_marital_Женский + Одинокий', 'gender_marital_Мужской + Женат', 'gender_marital_Мужской + Одинокий', 'longdistcat_(-inf, -1.55]', 'longdistcat_(-1.55, -1.17]', 'longdistcat_(-1.17, -0.8]', 'longdistcat_(-0.8, -0.42]', 'longdistcat_(-0.42, -0.05]', 'longdistcat_(-0.05, 0.33]', 'longdistcat_(0.33, 0.7]', 'longdistcat_(0.7, 1.08]', 'longdistcat_(1.08, inf]', 'agecat_(-inf, -1.47]', 'agecat_(-1.47, -1.08]', 'agecat_(-1.08, -0.69]', 'agecat_(-0.69, -0.3]', 'agecat_(-0.3, 0.09]', 'agecat_(0.09, 0.48]', 'agecat_(0.48, 0.87]', 'agecat_(0.87, 1.26]', 'agecat_(1.26, inf]', 'gender_agecat_Женский + (-0.3, 0.09]', 'gender_agecat_Женский + (-0.69, -0.3]', 'gender_agecat_Женский + (-1.08, -0.69]', 'gender_agecat_Женский + (-1.47, -1.08]', 'gender_agecat_Женский + (-inf, -1.47]', 'gender_agecat_Женский + (0.09, 0.48]', 'gender_agecat_Женский + (0.48, 0.87]', 'gender_agecat_Женский + (0.87, 1.26]', 'gender_agecat_Женский + (1.26, inf]', 'gender_agecat_Мужской + (-0.3, 0.09]', 'gender_agecat_Мужской + (-0.69, -0.3]', 'gender_agecat_Мужской + (-1.08, -0.69]', 'gender_agecat_Мужской + (-1.47, -1.08]', 'gender_agecat_Мужской + (-inf, -1.47]', 'gender_agecat_Мужской + (0.09, 0.48]', 'gender_agecat_Мужской + (0.48, 0.87]', 'gender_agecat_Мужской + (0.87, 1.26]', 'gender_agecat_Мужской + (1.26, inf]', 'gender_longdistcat_Женский + (-0.05, 0.33]', 'gender_longdistcat_Женский + (-0.42, -0.05]', 'gender_longdistcat_Женский + (-0.8, -0.42]', 'gender_longdistcat_Женский + (-1.17, -0.8]', 'gender_longdistcat_Женский + (-1.55, -1.17]', 'gender_longdistcat_Женский + (-inf, -1.55]', 'gender_longdistcat_Женский + (0.33, 0.7]', 'gender_longdistcat_Женский + (0.7, 1.08]', 'gender_longdistcat_Женский + (1.08, inf]', 'gender_longdistcat_Мужской + (-0.05, 0.33]', 'gender_longdistcat_Мужской + (-0.42, -0.05]', 'gender_longdistcat_Мужской + (-0.8, -0.42]', 'gender_longdistcat_Мужской + (-1.17, -0.8]', 'gender_longdistcat_Мужской + (-1.55, -1.17]', 'gender_longdistcat_Мужской + (-inf, -1.55]', 'gender_longdistcat_Мужской + (0.33, 0.7]', 'gender_longdistcat_Мужской + (0.7, 1.08]', 'gender_longdistcat_Мужской + (1.08, inf]']\n",
      "Исходные переменные:\n",
      " ['longdist', 'internat', 'local', 'int_disc', 'billtype', 'pay', 'age', 'gender', 'marital', 'children', 'income', 'churn', 'gender_marital', 'ratio', 'ratio2', 'ratio3', 'ratio4', 'longdistcat', 'agecat', 'gender_agecat', 'gender_longdistcat'] \n",
      "\n",
      "Переменные после get_dummies:\n",
      " ['longdist', 'internat', 'local', 'age', 'children', 'income', 'ratio', 'ratio2', 'ratio3', 'ratio4', 'int_disc_Да', 'int_disc_Нет', 'billtype_Бесплатный', 'billtype_Бюджетный', 'pay_Auto', 'pay_CC', 'pay_CH', 'gender_Женский', 'gender_Мужской', 'marital_Женат', 'marital_Одинокий', 'churn_Остается', 'churn_Уходит', 'gender_marital_Женский + Женат', 'gender_marital_Женский + Одинокий', 'gender_marital_Мужской + Женат', 'gender_marital_Мужской + Одинокий', 'longdistcat_(-inf, -1.55]', 'longdistcat_(-1.55, -1.17]', 'longdistcat_(-1.17, -0.8]', 'longdistcat_(-0.8, -0.42]', 'longdistcat_(-0.42, -0.05]', 'longdistcat_(-0.05, 0.33]', 'longdistcat_(0.33, 0.7]', 'longdistcat_(0.7, 1.08]', 'longdistcat_(1.08, inf]', 'agecat_(-inf, -1.47]', 'agecat_(-1.47, -1.08]', 'agecat_(-1.08, -0.69]', 'agecat_(-0.69, -0.3]', 'agecat_(-0.3, 0.09]', 'agecat_(0.09, 0.48]', 'agecat_(0.48, 0.87]', 'agecat_(0.87, 1.26]', 'agecat_(1.26, inf]', 'gender_agecat_Женский + (-0.3, 0.09]', 'gender_agecat_Женский + (-0.69, -0.3]', 'gender_agecat_Женский + (-1.08, -0.69]', 'gender_agecat_Женский + (-1.47, -1.08]', 'gender_agecat_Женский + (-inf, -1.47]', 'gender_agecat_Женский + (0.09, 0.48]', 'gender_agecat_Женский + (0.48, 0.87]', 'gender_agecat_Женский + (0.87, 1.26]', 'gender_agecat_Женский + (1.26, inf]', 'gender_agecat_Мужской + (-0.3, 0.09]', 'gender_agecat_Мужской + (-0.69, -0.3]', 'gender_agecat_Мужской + (-1.08, -0.69]', 'gender_agecat_Мужской + (-1.47, -1.08]', 'gender_agecat_Мужской + (-inf, -1.47]', 'gender_agecat_Мужской + (0.09, 0.48]', 'gender_agecat_Мужской + (0.48, 0.87]', 'gender_agecat_Мужской + (0.87, 1.26]', 'gender_agecat_Мужской + (1.26, inf]', 'gender_longdistcat_Женский + (-0.05, 0.33]', 'gender_longdistcat_Женский + (-0.42, -0.05]', 'gender_longdistcat_Женский + (-0.8, -0.42]', 'gender_longdistcat_Женский + (-1.17, -0.8]', 'gender_longdistcat_Женский + (-1.55, -1.17]', 'gender_longdistcat_Женский + (-inf, -1.55]', 'gender_longdistcat_Женский + (0.33, 0.7]', 'gender_longdistcat_Женский + (0.7, 1.08]', 'gender_longdistcat_Женский + (1.08, inf]', 'gender_longdistcat_Мужской + (-0.05, 0.33]', 'gender_longdistcat_Мужской + (-0.42, -0.05]', 'gender_longdistcat_Мужской + (-0.8, -0.42]', 'gender_longdistcat_Мужской + (-1.17, -0.8]', 'gender_longdistcat_Мужской + (-1.55, -1.17]', 'gender_longdistcat_Мужской + (-inf, -1.55]', 'gender_longdistcat_Мужской + (0.33, 0.7]', 'gender_longdistcat_Мужской + (0.7, 1.08]', 'gender_longdistcat_Мужской + (1.08, inf]']\n"
     ]
    }
   ],
   "source": [
    "# печатаем названия столбцов до и после\n",
    "# дамми-кодирования\n",
    "print(\"Исходные переменные:\\n\", list(train.columns), \"\\n\")\n",
    "train_dum2 = pd.get_dummies(train)\n",
    "print(\"Переменные после get_dummies:\\n\", list(train_dum2.columns))\n",
    "\n",
    "print(\"Исходные переменные:\\n\", list(test.columns), \"\\n\")\n",
    "test_dum2 = pd.get_dummies(test)\n",
    "print(\"Переменные после get_dummies:\\n\", list(test_dum2.columns))"
   ]
  },
  {
   "cell_type": "code",
   "execution_count": 46,
   "metadata": {},
   "outputs": [],
   "source": [
    "# создаем обучающий и контрольный массивы признаков\n",
    "train_dum2.drop(['churn_Остается', 'churn_Уходит'], axis=1, inplace=True)\n",
    "test_dum2.drop(['churn_Остается', 'churn_Уходит'], axis=1, inplace=True)\n",
    "X_tr2 = train_dum2.loc[:, 'longdist':'gender_longdistcat_Мужской + (1.08, inf]']\n",
    "X_tst2 = test_dum2.loc[:, 'longdist':'gender_longdistcat_Мужской + (1.08, inf]']"
   ]
  },
  {
   "cell_type": "code",
   "execution_count": 47,
   "metadata": {},
   "outputs": [
    {
     "name": "stdout",
     "output_type": "stream",
     "text": [
      "AUC на обучающей выборке: 0.923\n",
      "AUC на контрольной выборке: 0.916\n"
     ]
    }
   ],
   "source": [
    "# строим логистическую регрессию\n",
    "logreg3 = LogisticRegression().fit(X_tr2, y_train)\n",
    "from sklearn.metrics import roc_auc_score\n",
    "print(\"AUC на обучающей выборке: {:.3f}\".\n",
    "      format(roc_auc_score(y_train, logreg3.predict_proba(X_tr2)[:, 1])))\n",
    "print(\"AUC на контрольной выборке: {:.3f}\".\n",
    "      format(roc_auc_score(y_test, logreg3.predict_proba(X_tst2)[:, 1])))"
   ]
  },
  {
   "cell_type": "code",
   "execution_count": 48,
   "metadata": {},
   "outputs": [],
   "source": [
    "# взглянем на коэффициенты логистической регрессии\n",
    "# запишем коэффициенты и названия предикторов\n",
    "# в отдельные объекты\n",
    "coef = logreg3.coef_\n",
    "feat_labels = X_tr2.columns"
   ]
  },
  {
   "cell_type": "code",
   "execution_count": 49,
   "metadata": {},
   "outputs": [
    {
     "data": {
      "text/plain": [
       "array([-0.13223976])"
      ]
     },
     "execution_count": 49,
     "metadata": {},
     "output_type": "execute_result"
    }
   ],
   "source": [
    "# вычислим свободный член (константу)\n",
    "intercept = logreg3.intercept_\n",
    "intercept"
   ]
  },
  {
   "cell_type": "code",
   "execution_count": 50,
   "metadata": {},
   "outputs": [
    {
     "data": {
      "text/plain": [
       "-0.13"
      ]
     },
     "execution_count": 50,
     "metadata": {},
     "output_type": "execute_result"
    }
   ],
   "source": [
    "# переводим массив в скаляр\n",
    "intercept = round(np.asscalar(intercept), 2)\n",
    "intercept"
   ]
  },
  {
   "cell_type": "code",
   "execution_count": 51,
   "metadata": {
    "scrolled": false
   },
   "outputs": [
    {
     "name": "stdout",
     "output_type": "stream",
     "text": [
      "Константа: -0.13\n",
      "Коэффициенты:\n",
      "longdist -0.15\n",
      "internat 1.36\n",
      "local 0.02\n",
      "age -0.73\n",
      "children -0.25\n",
      "income 0.61\n",
      "ratio -0.62\n",
      "ratio2 0.26\n",
      "ratio3 -1.11\n",
      "ratio4 0.27\n",
      "int_disc_Да -0.06\n",
      "int_disc_Нет -0.07\n",
      "billtype_Бесплатный -0.04\n",
      "billtype_Бюджетный -0.1\n",
      "pay_Auto -0.23\n",
      "pay_CC 0.02\n",
      "pay_CH 0.08\n",
      "gender_Женский 0.98\n",
      "gender_Мужской -1.12\n",
      "marital_Женат -0.09\n",
      "marital_Одинокий -0.04\n",
      "gender_marital_Женский + Женат 0.37\n",
      "gender_marital_Женский + Одинокий 0.24\n",
      "gender_marital_Мужской + Женат -0.46\n",
      "gender_marital_Мужской + Одинокий -0.28\n",
      "longdistcat_(-inf, -1.55] 1.35\n",
      "longdistcat_(-1.55, -1.17] 0.24\n",
      "longdistcat_(-1.17, -0.8] 0.06\n",
      "longdistcat_(-0.8, -0.42] 0.14\n",
      "longdistcat_(-0.42, -0.05] -0.05\n",
      "longdistcat_(-0.05, 0.33] -0.52\n",
      "longdistcat_(0.33, 0.7] -0.56\n",
      "longdistcat_(0.7, 1.08] -0.3\n",
      "longdistcat_(1.08, inf] -0.5\n",
      "agecat_(-inf, -1.47] 0.03\n",
      "agecat_(-1.47, -1.08] -0.52\n",
      "agecat_(-1.08, -0.69] -1.06\n",
      "agecat_(-0.69, -0.3] 0.21\n",
      "agecat_(-0.3, 0.09] 0.06\n",
      "agecat_(0.09, 0.48] 0.09\n",
      "agecat_(0.48, 0.87] 0.15\n",
      "agecat_(0.87, 1.26] 0.29\n",
      "agecat_(1.26, inf] 0.61\n",
      "gender_agecat_Женский + (-0.3, 0.09] 0.46\n",
      "gender_agecat_Женский + (-0.69, -0.3] 1.36\n",
      "gender_agecat_Женский + (-1.08, -0.69] -1.15\n",
      "gender_agecat_Женский + (-1.47, -1.08] -1.88\n",
      "gender_agecat_Женский + (-inf, -1.47] -1.04\n",
      "gender_agecat_Женский + (0.09, 0.48] 0.85\n",
      "gender_agecat_Женский + (0.48, 0.87] 0.77\n",
      "gender_agecat_Женский + (0.87, 1.26] 0.86\n",
      "gender_agecat_Женский + (1.26, inf] 0.75\n",
      "gender_agecat_Мужской + (-0.3, 0.09] -0.4\n",
      "gender_agecat_Мужской + (-0.69, -0.3] -1.16\n",
      "gender_agecat_Мужской + (-1.08, -0.69] 0.08\n",
      "gender_agecat_Мужской + (-1.47, -1.08] 1.36\n",
      "gender_agecat_Мужской + (-inf, -1.47] 1.07\n",
      "gender_agecat_Мужской + (0.09, 0.48] -0.76\n",
      "gender_agecat_Мужской + (0.48, 0.87] -0.62\n",
      "gender_agecat_Мужской + (0.87, 1.26] -0.56\n",
      "gender_agecat_Мужской + (1.26, inf] -0.14\n",
      "gender_longdistcat_Женский + (-0.05, 0.33] -0.2\n",
      "gender_longdistcat_Женский + (-0.42, -0.05] -0.01\n",
      "gender_longdistcat_Женский + (-0.8, -0.42] 0.31\n",
      "gender_longdistcat_Женский + (-1.17, -0.8] -0.01\n",
      "gender_longdistcat_Женский + (-1.55, -1.17] 0.43\n",
      "gender_longdistcat_Женский + (-inf, -1.55] 0.5\n",
      "gender_longdistcat_Женский + (0.33, 0.7] 0.08\n",
      "gender_longdistcat_Женский + (0.7, 1.08] -0.08\n",
      "gender_longdistcat_Женский + (1.08, inf] -0.03\n",
      "gender_longdistcat_Мужской + (-0.05, 0.33] -0.32\n",
      "gender_longdistcat_Мужской + (-0.42, -0.05] -0.04\n",
      "gender_longdistcat_Мужской + (-0.8, -0.42] -0.17\n",
      "gender_longdistcat_Мужской + (-1.17, -0.8] 0.07\n",
      "gender_longdistcat_Мужской + (-1.55, -1.17] -0.18\n",
      "gender_longdistcat_Мужской + (-inf, -1.55] 0.85\n",
      "gender_longdistcat_Мужской + (0.33, 0.7] -0.64\n",
      "gender_longdistcat_Мужской + (0.7, 1.08] -0.22\n",
      "gender_longdistcat_Мужской + (1.08, inf] -0.47\n"
     ]
    }
   ],
   "source": [
    "# печатаем название \"Константа\"    \n",
    "print(\"Константа:\", intercept)\n",
    "# печатаем название \"Коэффициенты\"\n",
    "print(\"Коэффициенты:\")\n",
    "# для удобства сопоставим каждому названию \n",
    "# предиктора соответствующий коэффициент\n",
    "for c, feature in zip(coef[0], feat_labels):\n",
    "    print(feature, round(c, 2))"
   ]
  },
  {
   "cell_type": "markdown",
   "metadata": {},
   "source": [
    "## Настройка гиперпараметров логистической регрессии с помощью класса GridSearchCV"
   ]
  },
  {
   "cell_type": "code",
   "execution_count": 52,
   "metadata": {},
   "outputs": [
    {
     "name": "stdout",
     "output_type": "stream",
     "text": [
      "AUC на тестовой выборке: 0.917\n",
      "Наилучшее значение гиперпараметра C: {'C': 100}\n",
      "Наилучшее значение AUC: 0.917\n"
     ]
    }
   ],
   "source": [
    "# импортируем класс StratifiedKFold\n",
    "from sklearn.model_selection import StratifiedKFold\n",
    "# создаем экземпляр класса StratifiedKFold\n",
    "skf = StratifiedKFold(n_splits=5, shuffle=True, random_state=42)\n",
    "# импортируем класс GridSearchCV\n",
    "from sklearn.model_selection import GridSearchCV\n",
    "# создаем экземпляр класса LogisticRegression,\n",
    "# логистическую регрессию с L1-регуляризацией\n",
    "logreg_grid = LogisticRegression(penalty='l1')\n",
    "# задаем сетку гиперпараметров, будем перебирать \n",
    "# разные значения штрафа\n",
    "param_grid_logreg = {'C': [0.01, 0.1, 1, 10, 100]}\n",
    "# задаем стратегию перекрестной проверки\n",
    "stratcv = StratifiedKFold(n_splits=3)\n",
    "# создаем экземпляр класса GridSearchCV\n",
    "grid_search = GridSearchCV(logreg_grid, param_grid_logreg, \n",
    "                           scoring='roc_auc', \n",
    "                           n_jobs=-1, cv=skf)\n",
    "# запускаем решетчатый поиск\n",
    "grid_search.fit(X_tr2, y_train)\n",
    "# проверяем модель со значением параметра, дающим наибольшее\n",
    "# значение AUC (усредненное по контрольным блокам перекрестной\n",
    "# проверки), на тестовой выборке\n",
    "test_score = roc_auc_score(y_test, grid_search.predict_proba(X_tst2)[:, 1])\n",
    "# смотрим результаты решетчатого поиска\n",
    "print(\"AUC на тестовой выборке: {:.3f}\".format(test_score))\n",
    "print(\"Наилучшее значение гиперпараметра C: {}\".format(grid_search.best_params_))\n",
    "print(\"Наилучшее значение AUC: {:.3f}\".format(grid_search.best_score_))"
   ]
  },
  {
   "cell_type": "markdown",
   "metadata": {},
   "source": [
    "## Построение модели логистической регрессии с помощью класса H2OGeneralizedLinearEstimator библиотеки H2O"
   ]
  },
  {
   "cell_type": "code",
   "execution_count": null,
   "metadata": {
    "scrolled": true
   },
   "outputs": [
    {
     "name": "stdout",
     "output_type": "stream",
     "text": [
      "Checking whether there is an H2O instance running at http://localhost:54321....."
     ]
    }
   ],
   "source": [
    "# перед импортом библиотеки h2o и модуля os убедитесь, что библиотека h2o установлена \n",
    "# (сначала установите Java SE Development Kit 8, обратите внимание, \n",
    "# 9-я версия H2O не поддерживается, а затем после установки Java \n",
    "# запустите Anaconda Prompt и установите h2o с помощью \n",
    "# строки pip install h2o)\n",
    "import h2o\n",
    "import os\n",
    "h2o.init(nthreads = -1, max_mem_size = 8)"
   ]
  },
  {
   "cell_type": "code",
   "execution_count": null,
   "metadata": {},
   "outputs": [],
   "source": [
    "# импортируем библиотеку для транслитерации\n",
    "from transliterate import translit"
   ]
  },
  {
   "cell_type": "code",
   "execution_count": null,
   "metadata": {},
   "outputs": [],
   "source": [
    "# сейчас нам надо задать переменные для транслитерации\n",
    "cat_cols = ['int_disc', 'billtype', 'pay', 'gender', \n",
    "            'marital', 'gender_marital', 'gender_agecat',\n",
    "            'gender_longdistcat', 'churn']"
   ]
  },
  {
   "cell_type": "code",
   "execution_count": null,
   "metadata": {},
   "outputs": [],
   "source": [
    "# выполняем транслитерацию\n",
    "for i in cat_cols:\n",
    "    train[i] = train[i].apply(lambda x: translit(x, 'ru', reversed=True))\n",
    "    test[i] = test[i].apply(lambda x: translit(x, 'ru', reversed=True))"
   ]
  },
  {
   "cell_type": "code",
   "execution_count": null,
   "metadata": {},
   "outputs": [],
   "source": [
    "# смотрим результаты транслитерации\n",
    "# на обучающем наборе\n",
    "for c in cat_cols:\n",
    "    print(train[c].unique())"
   ]
  },
  {
   "cell_type": "code",
   "execution_count": null,
   "metadata": {
    "scrolled": true
   },
   "outputs": [],
   "source": [
    "# преобразовываем датафреймы pandas во фреймы h2o -\n",
    "# специальную структуру данных, используемую h2o\n",
    "tr = h2o.H2OFrame(train)\n",
    "valid = h2o.H2OFrame(test)"
   ]
  },
  {
   "cell_type": "code",
   "execution_count": null,
   "metadata": {},
   "outputs": [],
   "source": [
    "# взглянем на обучающий фрейм, обратите внимание,\n",
    "# сейчас метод .describe() - это метод h2o, а не \n",
    "# pandas\n",
    "tr.describe()"
   ]
  },
  {
   "cell_type": "code",
   "execution_count": null,
   "metadata": {},
   "outputs": [],
   "source": [
    "# задаем название зависимой переменной\n",
    "dependent = 'churn'\n",
    "# задаем список названий предикторов\n",
    "predictors = list(tr.columns)\n",
    "# удаляем название зависимой переменной из \n",
    "# списка названий предикторов\n",
    "predictors.remove(dependent)"
   ]
  },
  {
   "cell_type": "code",
   "execution_count": null,
   "metadata": {},
   "outputs": [],
   "source": [
    "# импортируем класс H2OGeneralizedLinearEstimator\n",
    "from h2o.estimators.glm import H2OGeneralizedLinearEstimator"
   ]
  },
  {
   "cell_type": "code",
   "execution_count": null,
   "metadata": {},
   "outputs": [],
   "source": [
    "# создаем экземпляр класса H2OGeneralizedLinearEstimator\n",
    "glm_model = H2OGeneralizedLinearEstimator(family='binomial')\n",
    "# обучаем модель\n",
    "glm_model.train(predictors, dependent, \n",
    "                training_frame=tr, validation_frame=valid)"
   ]
  },
  {
   "cell_type": "code",
   "execution_count": null,
   "metadata": {
    "scrolled": false
   },
   "outputs": [],
   "source": [
    "# смотрим модель\n",
    "glm_model"
   ]
  },
  {
   "cell_type": "code",
   "execution_count": null,
   "metadata": {},
   "outputs": [],
   "source": [
    "# записываем таблицу коэффициентов\n",
    "coeff_table = glm_model._model_json['output']['coefficients_table']\n",
    "\n",
    "# преобразуем таблицу коэффициентов в датафрейм pondas\n",
    "coeff_table.as_data_frame()"
   ]
  },
  {
   "cell_type": "code",
   "execution_count": null,
   "metadata": {},
   "outputs": [],
   "source": [
    "# еще можно добавлять взаимодействия признаков\n",
    "\n",
    "# создаем экземпляр класса H2OGeneralizedLinearEstimator\n",
    "glm_model2 = H2OGeneralizedLinearEstimator(family=\"binomial\", \n",
    "                                           interactions=['longdistcat', 'marital'])\n",
    "# обучаем модель\n",
    "glm_model2.train(predictors, dependent, training_frame=tr, \n",
    "                validation_frame=valid)"
   ]
  },
  {
   "cell_type": "code",
   "execution_count": null,
   "metadata": {},
   "outputs": [],
   "source": [
    "# смотрим модель\n",
    "glm_model2"
   ]
  },
  {
   "cell_type": "code",
   "execution_count": null,
   "metadata": {
    "scrolled": true
   },
   "outputs": [],
   "source": [
    "# чтобы вычислить p-значения коэффициентов, нужно \n",
    "# задать параметр compute_p_values, отключить \n",
    "# регуляризацию (lambda_ = 0), задать метод наименьших \n",
    "# квадратов с итеративным пересчётом весов (solver='IRLSM'),\n",
    "# рекомендуется задать параметр remove_collinear_columns\n",
    "\n",
    "# создаем экземпляр класса H2OGeneralizedLinearEstimator\n",
    "glm_model3 = H2OGeneralizedLinearEstimator(lambda_=0, family='binomial', solver='IRLSM',\n",
    "                                           remove_collinear_columns=True,\n",
    "                                           compute_p_values=True)\n",
    "# обучаем модель\n",
    "glm_model3.train(predictors, dependent, \n",
    "                 training_frame=tr, validation_frame=valid)"
   ]
  },
  {
   "cell_type": "code",
   "execution_count": null,
   "metadata": {
    "scrolled": false
   },
   "outputs": [],
   "source": [
    "# записываем таблицу коэффициентов\n",
    "coeff_table = glm_model3._model_json['output']['coefficients_table']\n",
    "\n",
    "# преобразуем таблицу коэффициентов в датафрейм pondas\n",
    "coeff_table.as_data_frame()"
   ]
  },
  {
   "cell_type": "code",
   "execution_count": null,
   "metadata": {
    "scrolled": true
   },
   "outputs": [],
   "source": [
    "# импортируем класс H2OGridSearch для выполнения решетчатого поиска\n",
    "from h2o.grid.grid_search import H2OGridSearch\n",
    "\n",
    "# задаем сетку параметров, будем перебирать разные значения alpha,\n",
    "# alpha определяет тип регуляризации: значение 1 соответствует \n",
    "# l1-регуляризации (лассо), значение 0 соответствует l2-регуляризации \n",
    "# (гребневой регрессии), промежуточное значение соответствует \n",
    "# комбинации штрафов l1 и l2 (эластичной сети)\n",
    "hyper_parameters = {'alpha':[0, 0.1, 0.2, 0.3, 0.4, 0.5, 0.6, 0.7, 0.8, 0.9, 1]}\n",
    "\n",
    "# создаем экземпляр класса H2OGridSearch, lambda_search \n",
    "# задает перебор значений lambda - силы регуляризации\n",
    "gridsearch = H2OGridSearch(H2OGeneralizedLinearEstimator(family='binomial', lambda_search=True),\n",
    "                           grid_id='gridresults', hyper_params=hyper_parameters)\n",
    "# подгоняем модели решетчатого поиска\n",
    "gridsearch.train(predictors, dependent, \n",
    "                 training_frame=tr, \n",
    "                 nfolds=5, \n",
    "                 keep_cross_validation_predictions=True, \n",
    "                 seed=1000000)"
   ]
  },
  {
   "cell_type": "code",
   "execution_count": null,
   "metadata": {
    "scrolled": false
   },
   "outputs": [],
   "source": [
    "# выводим результаты решетчатого поиска\n",
    "gridsearch.show()"
   ]
  },
  {
   "cell_type": "code",
   "execution_count": null,
   "metadata": {},
   "outputs": [],
   "source": [
    "# сортируем результаты решетчатого поиска\n",
    "# по убывания AUC\n",
    "gridperf = gridsearch.get_grid(sort_by=\"auc\", decreasing=True)\n",
    "gridperf"
   ]
  },
  {
   "cell_type": "code",
   "execution_count": null,
   "metadata": {},
   "outputs": [],
   "source": [
    "# извлекаем наилучшую модель\n",
    "best_model = gridperf.models[0]\n",
    "best_model"
   ]
  },
  {
   "cell_type": "code",
   "execution_count": null,
   "metadata": {},
   "outputs": [],
   "source": [
    "# смотрим AUC наилучшей модели\n",
    "# на контрольной выборке\n",
    "bestmodel_perf = best_model.model_performance(valid)\n",
    "print(bestmodel_perf.auc())"
   ]
  },
  {
   "cell_type": "code",
   "execution_count": null,
   "metadata": {},
   "outputs": [],
   "source": [
    "# смотрим оптимальное значение lambda и alpha\n",
    "best_model.summary()['regularization']"
   ]
  }
 ],
 "metadata": {
  "kernelspec": {
   "display_name": "Python 3",
   "language": "python",
   "name": "python3"
  },
  "language_info": {
   "codemirror_mode": {
    "name": "ipython",
    "version": 3
   },
   "file_extension": ".py",
   "mimetype": "text/x-python",
   "name": "python",
   "nbconvert_exporter": "python",
   "pygments_lexer": "ipython3",
   "version": "3.6.5"
  }
 },
 "nbformat": 4,
 "nbformat_minor": 2
}
